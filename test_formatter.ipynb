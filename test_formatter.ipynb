{
 "cells": [
  {
   "cell_type": "code",
   "execution_count": null,
   "metadata": {},
   "outputs": [],
   "source": [
    "import pandas as pd\n",
    "\n",
    "df = pd.DataFrame({\"a\": [1, 1, 2, 2], \"b\": [5, 6, 7, 8]})\n",
    "result = (\n",
    "    df.groupby(\"a\")\n",
    "    .agg(b_sum=(\"b\", \"sum\"))\n",
    "    .reset_index()\n",
    "    .sort_values(\"b_sum\", ascending=False)\n",
    "    .head(2)\n",
    ")\n",
    "result"
   ]
  }
 ],
 "metadata": {
  "kernelspec": {
   "display_name": "Python 3 (ipykernel)",
   "language": "python",
   "name": "python3",
   "path": "c:\\Users\\kenda\\Desktop\\graph_courses_python\\.venv\\share\\jupyter\\kernels\\python3"
  }
 },
 "nbformat": 4,
 "nbformat_minor": 4
}
